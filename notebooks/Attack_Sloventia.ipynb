{
 "cells": [
  {
   "cell_type": "markdown",
   "id": "857cb043",
   "metadata": {},
   "source": [
    "## Slovenia Attack Analyze"
   ]
  },
  {
   "cell_type": "code",
   "execution_count": 5,
   "id": "f878f9aa-64b5-4ea2-baad-f155bbfe61f8",
   "metadata": {},
   "outputs": [],
   "source": [
    "import pandas as pd\n",
    "import json\n",
    "from IPython.display import display\n",
    "import zipfile\n",
    "from pathlib import Path"
   ]
  },
  {
   "cell_type": "markdown",
   "id": "7400ea56",
   "metadata": {},
   "source": [
    "Read the correct Match ID -> List with all the Slovenian ID's\n"
   ]
  },
  {
   "cell_type": "code",
   "execution_count": 11,
   "id": "e8e04e23-bac3-4e35-a2c3-1980eb11e65c",
   "metadata": {},
   "outputs": [],
   "source": [
    "base_path = './input/wyscout'\n",
    "\n",
    "# You can adjust the match_id according to your assigned task\n",
    "match_id = \"5414103\"\n",
    "\n",
    "file_name = match_id + '.json'\n",
    "\n",
    "#Wyscout Match ID's from Slovenia Qualifier games\n",
    "# 5414103, 5414128, 5414156, 5414180, 5414203, 5414226, 5414260, 5414284, 5414302, 5414324\n"
   ]
  },
  {
   "cell_type": "code",
   "execution_count": 9,
   "id": "dafd8511",
   "metadata": {},
   "outputs": [],
   "source": [
    "def wyscout_json_to_df(file_name):\n",
    "    match_id = file_name[:-5]\n",
    "\n",
    "    # Create the input_dir if it does not exist\n",
    "    unzip_dir = Path(\"./\" + base_path + '/' + f\"{match_id}/\")\n",
    "\n",
    "    if not unzip_dir.exists():\n",
    "        unzip_dir.mkdir(parents=True, exist_ok=True)\n",
    "\n",
    "    # Extract the zip file\n",
    "    zip_file = f\"./input/wyscout/{match_id}.zip\"\n",
    "\n",
    "    with zipfile.ZipFile(zip_file, 'r') as zip_ref:\n",
    "        zip_ref.extractall(unzip_dir)\n",
    "\n",
    "    with open(base_path + f\"/{match_id}\" + '/' + file_name, encoding='utf8') as f:\n",
    "        js = json.load(f)\n",
    "        df = pd.json_normalize(js['events'])\n",
    "    return df"
   ]
  },
  {
   "cell_type": "code",
   "execution_count": 10,
   "id": "47364f34",
   "metadata": {},
   "outputs": [
    {
     "name": "stdout",
     "output_type": "stream",
     "text": [
      "Index(['id', 'matchId', 'matchPeriod', 'minute', 'second', 'matchTimestamp',\n",
      "       'videoTimestamp', 'relatedEventId', 'shot', 'groundDuel', 'aerialDuel',\n",
      "       'infraction', 'carry', 'type.primary', 'type.secondary', 'location.x',\n",
      "       'location.y', 'team.id', 'team.name', 'team.formation',\n",
      "       'opponentTeam.id', 'opponentTeam.name', 'opponentTeam.formation',\n",
      "       'player.id', 'player.name', 'player.position', 'pass.accurate',\n",
      "       'pass.angle', 'pass.height', 'pass.length', 'pass.recipient.id',\n",
      "       'pass.recipient.name', 'pass.recipient.position', 'pass.endLocation.x',\n",
      "       'pass.endLocation.y', 'possession.id', 'possession.duration',\n",
      "       'possession.types', 'possession.eventsNumber', 'possession.eventIndex',\n",
      "       'possession.startLocation.x', 'possession.startLocation.y',\n",
      "       'possession.endLocation.x', 'possession.endLocation.y',\n",
      "       'possession.team.id', 'possession.team.name',\n",
      "       'possession.team.formation', 'possession.attack.withShot',\n",
      "       'possession.attack.withShotOnGoal', 'possession.attack.withGoal',\n",
      "       'possession.attack.flank', 'possession.attack.xg', 'pass',\n",
      "       'aerialDuel.opponent.id', 'aerialDuel.opponent.name',\n",
      "       'aerialDuel.opponent.position', 'aerialDuel.opponent.height',\n",
      "       'aerialDuel.firstTouch', 'aerialDuel.height',\n",
      "       'aerialDuel.relatedDuelId', 'infraction.yellowCard',\n",
      "       'infraction.redCard', 'infraction.type', 'infraction.opponent.id',\n",
      "       'infraction.opponent.name', 'infraction.opponent.position',\n",
      "       'shot.bodyPart', 'shot.isGoal', 'shot.onTarget', 'shot.goalZone',\n",
      "       'shot.xg', 'shot.postShotXg', 'shot.goalkeeperActionId',\n",
      "       'shot.goalkeeper.id', 'shot.goalkeeper.name', 'possession.attack',\n",
      "       'groundDuel.opponent.id', 'groundDuel.opponent.name',\n",
      "       'groundDuel.opponent.position', 'groundDuel.duelType',\n",
      "       'groundDuel.keptPossession', 'groundDuel.progressedWithBall',\n",
      "       'groundDuel.stoppedProgress', 'groundDuel.recoveredPossession',\n",
      "       'groundDuel.takeOn', 'groundDuel.side', 'groundDuel.relatedDuelId',\n",
      "       'possession', 'shot.goalkeeper', 'location', 'carry.progression',\n",
      "       'carry.endLocation.x', 'carry.endLocation.y', 'infraction.opponent'],\n",
      "      dtype='object') \n",
      "\n"
     ]
    }
   ],
   "source": [
    "df_events = wyscout_json_to_df(file_name)\n",
    "\n",
    "#save df to csv\n",
    "if not Path(\"./results/wyscout/\").exists():\n",
    "        Path(\"./results/wyscout/\").mkdir(parents=True, exist_ok=True)\n",
    "\n",
    "df_events.to_csv(f\"./results/wyscout/{match_id}_df_events.csv\")\n",
    "\n",
    "print(df_events.columns, \"\\n\")"
   ]
  },
  {
   "cell_type": "code",
   "execution_count": 1,
   "id": "39fdbd13",
   "metadata": {},
   "outputs": [
    {
     "name": "stdout",
     "output_type": "stream",
     "text": [
      "hello world\n"
     ]
    }
   ],
   "source": [
    "print(\"hello world\")"
   ]
  }
 ],
 "metadata": {
  "kernelspec": {
   "display_name": "Python 3 (ipykernel)",
   "language": "python",
   "name": "python3"
  },
  "language_info": {
   "codemirror_mode": {
    "name": "ipython",
    "version": 3
   },
   "file_extension": ".py",
   "mimetype": "text/x-python",
   "name": "python",
   "nbconvert_exporter": "python",
   "pygments_lexer": "ipython3",
   "version": "3.11.8"
  }
 },
 "nbformat": 4,
 "nbformat_minor": 5
}
