{
 "cells": [
  {
   "cell_type": "markdown",
   "id": "31752ba6",
   "metadata": {
    "papermill": {
     "duration": 0.006665,
     "end_time": "2024-03-01T11:37:02.842974",
     "exception": false,
     "start_time": "2024-03-01T11:37:02.836309",
     "status": "completed"
    },
    "tags": []
   },
   "source": [
    "# Wyscout Events Data Loading\n",
    "### Loris"
   ]
  },
  {
   "cell_type": "code",
   "execution_count": 10,
   "id": "090fd1ab",
   "metadata": {
    "_cell_guid": "b1076dfc-b9ad-4769-8c92-a6c4dae69d19",
    "_uuid": "8f2839f25d086af736a60e9eeb907d3b93b6e0e5",
    "execution": {
     "iopub.execute_input": "2024-03-01T11:37:02.858316Z",
     "iopub.status.busy": "2024-03-01T11:37:02.857442Z",
     "iopub.status.idle": "2024-03-01T11:37:03.848377Z",
     "shell.execute_reply": "2024-03-01T11:37:03.847092Z"
    },
    "papermill": {
     "duration": 1.002079,
     "end_time": "2024-03-01T11:37:03.851501",
     "exception": false,
     "start_time": "2024-03-01T11:37:02.849422",
     "status": "completed"
    },
    "tags": []
   },
   "outputs": [],
   "source": [
    "import pandas as pd\n",
    "import json\n",
    "from IPython.display import display\n",
    "import zipfile\n",
    "from pathlib import Path\n",
    "\n",
    "# load custom functions\n",
    "from src.dataloader import dataloader\n"
   ]
  },
  {
   "cell_type": "markdown",
   "id": "87ab4c94",
   "metadata": {},
   "source": [
    "### Load Datas"
   ]
  },
  {
   "cell_type": "code",
   "execution_count": 15,
   "id": "84206ba3",
   "metadata": {},
   "outputs": [
    {
     "data": {
      "text/plain": [
       "Index(['Unnamed: 0', 'id', 'matchId', 'matchPeriod', 'minute', 'second',\n",
       "       'matchTimestamp', 'videoTimestamp', 'relatedEventId', 'shot',\n",
       "       'groundDuel', 'aerialDuel', 'infraction', 'carry', 'type.primary',\n",
       "       'type.secondary', 'location.x', 'location.y', 'team.id', 'team.name',\n",
       "       'team.formation', 'opponentTeam.id', 'opponentTeam.name',\n",
       "       'opponentTeam.formation', 'player.id', 'player.name', 'player.position',\n",
       "       'pass.accurate', 'pass.angle', 'pass.height', 'pass.length',\n",
       "       'pass.recipient.id', 'pass.recipient.name', 'pass.recipient.position',\n",
       "       'pass.endLocation.x', 'pass.endLocation.y', 'possession.id',\n",
       "       'possession.duration', 'possession.types', 'possession.eventsNumber',\n",
       "       'possession.eventIndex', 'possession.startLocation.x',\n",
       "       'possession.startLocation.y', 'possession.endLocation.x',\n",
       "       'possession.endLocation.y', 'possession.team.id',\n",
       "       'possession.team.name', 'possession.team.formation',\n",
       "       'possession.attack.withShot', 'possession.attack.withShotOnGoal',\n",
       "       'possession.attack.withGoal', 'possession.attack.flank',\n",
       "       'possession.attack.xg', 'pass', 'aerialDuel.opponent.id',\n",
       "       'aerialDuel.opponent.name', 'aerialDuel.opponent.position',\n",
       "       'aerialDuel.opponent.height', 'aerialDuel.firstTouch',\n",
       "       'aerialDuel.height', 'aerialDuel.relatedDuelId',\n",
       "       'infraction.yellowCard', 'infraction.redCard', 'infraction.type',\n",
       "       'infraction.opponent.id', 'infraction.opponent.name',\n",
       "       'infraction.opponent.position', 'shot.bodyPart', 'shot.isGoal',\n",
       "       'shot.onTarget', 'shot.goalZone', 'shot.xg', 'shot.postShotXg',\n",
       "       'shot.goalkeeperActionId', 'shot.goalkeeper.id', 'shot.goalkeeper.name',\n",
       "       'possession.attack', 'groundDuel.opponent.id',\n",
       "       'groundDuel.opponent.name', 'groundDuel.opponent.position',\n",
       "       'groundDuel.duelType', 'groundDuel.keptPossession',\n",
       "       'groundDuel.progressedWithBall', 'groundDuel.stoppedProgress',\n",
       "       'groundDuel.recoveredPossession', 'groundDuel.takeOn',\n",
       "       'groundDuel.side', 'groundDuel.relatedDuelId', 'possession',\n",
       "       'shot.goalkeeper', 'location', 'carry.progression',\n",
       "       'carry.endLocation.x', 'carry.endLocation.y', 'infraction.opponent'],\n",
       "      dtype='object')"
      ]
     },
     "execution_count": 15,
     "metadata": {},
     "output_type": "execute_result"
    }
   ],
   "source": [
    "# Get all matches from slovenia\n",
    "\n",
    "# Load Data from each game\n",
    "match_id = \"5414103\"\n",
    "df_events = dataloader(match_id)\n",
    "df_events.columns\n"
   ]
  },
  {
   "cell_type": "code",
   "execution_count": 12,
   "id": "4acdbc9b",
   "metadata": {},
   "outputs": [
    {
     "data": {
      "text/plain": [
       "array(['pass', 'interception', 'duel', 'infraction', 'free_kick',\n",
       "       'shot_against', 'game_interruption', 'throw_in', 'acceleration',\n",
       "       'shot', 'touch', 'corner', 'goal_kick', 'clearance',\n",
       "       'goalkeeper_exit', 'offside'], dtype=object)"
      ]
     },
     "execution_count": 12,
     "metadata": {},
     "output_type": "execute_result"
    }
   ],
   "source": [
    "df_events['type.primary'].unique()\n",
    "# important for Loris\n",
    "# 'duel', 'interception', 'throw_in', 'corner', 'shot', 'shot_against','offside',  'infraction', 'clearance','goalkeeper_exit'\n"
   ]
  },
  {
   "cell_type": "code",
   "execution_count": 13,
   "id": "b728eebe",
   "metadata": {},
   "outputs": [],
   "source": [
    "df_names = ['player.id','player.name','player.position','team.name','opponentTeam.name','team.formation',\\\n",
    "    'opponentTeam.formation''possession.team.id','possession.team.name','possession.team.formation',\\\n",
    "    'aerialDuel.opponent.id', 'aerialDuel.opponent.name','aerialDuel.opponent.position', 'aerialDuel.opponent.height',\\\n",
    "    'aerialDuel.firstTouch', 'aerialDuel.height','aerialDuel.relatedDuelId', 'carry.progression', 'carry.endLocation.x',\\\n",
    "    'carry.endLocation.y', 'groundDuel.opponent.id','groundDuel.opponent.name', 'groundDuel.opponent.position',\\\n",
    "    'groundDuel.duelType', 'groundDuel.keptPossession','groundDuel.progressedWithBall', 'groundDuel.stoppedProgress',\\\n",
    "    'groundDuel.recoveredPossession', 'groundDuel.takeOn','groundDuel.side', 'groundDuel.relatedDuelId','possession','shot.goalkeeperActionId',\n",
    "       'shot.goalkeeper.id', 'shot.goalkeeper.name', 'shot.goalkeeper','location','matchPeriod', 'minute', 'second']"
   ]
  },
  {
   "cell_type": "markdown",
   "id": "e3a36c2e",
   "metadata": {},
   "source": [
    "# 4 Out of possesion - defense of Slovenia\n",
    "\n",
    "## 4.1 Typical defense formation & style"
   ]
  },
  {
   "cell_type": "markdown",
   "id": "96ca1837",
   "metadata": {},
   "source": [
    "How to do:\n",
    "- get the possession times, when slovenia is out of possession\n",
    "- get the location of the players in that time spans\n",
    "- get the formation of the team in that time spans\n",
    "- make heat maps with that data (the time when they are defending)"
   ]
  },
  {
   "cell_type": "code",
   "execution_count": 16,
   "id": "069a5670",
   "metadata": {},
   "outputs": [
    {
     "data": {
      "text/html": [
       "<div>\n",
       "<style scoped>\n",
       "    .dataframe tbody tr th:only-of-type {\n",
       "        vertical-align: middle;\n",
       "    }\n",
       "\n",
       "    .dataframe tbody tr th {\n",
       "        vertical-align: top;\n",
       "    }\n",
       "\n",
       "    .dataframe thead th {\n",
       "        text-align: right;\n",
       "    }\n",
       "</style>\n",
       "<table border=\"1\" class=\"dataframe\">\n",
       "  <thead>\n",
       "    <tr style=\"text-align: right;\">\n",
       "      <th></th>\n",
       "      <th>possession.duration</th>\n",
       "      <th>team.name</th>\n",
       "      <th>possession.team.name</th>\n",
       "      <th>type.primary</th>\n",
       "      <th>minute</th>\n",
       "      <th>second</th>\n",
       "    </tr>\n",
       "  </thead>\n",
       "  <tbody>\n",
       "    <tr>\n",
       "      <th>0</th>\n",
       "      <td>14.825304</td>\n",
       "      <td>Slovenia</td>\n",
       "      <td>Slovenia</td>\n",
       "      <td>pass</td>\n",
       "      <td>0</td>\n",
       "      <td>5</td>\n",
       "    </tr>\n",
       "    <tr>\n",
       "      <th>1</th>\n",
       "      <td>14.825304</td>\n",
       "      <td>Slovenia</td>\n",
       "      <td>Slovenia</td>\n",
       "      <td>pass</td>\n",
       "      <td>0</td>\n",
       "      <td>8</td>\n",
       "    </tr>\n",
       "    <tr>\n",
       "      <th>2</th>\n",
       "      <td>14.825304</td>\n",
       "      <td>Kazakhstan</td>\n",
       "      <td>Slovenia</td>\n",
       "      <td>pass</td>\n",
       "      <td>0</td>\n",
       "      <td>11</td>\n",
       "    </tr>\n",
       "    <tr>\n",
       "      <th>3</th>\n",
       "      <td>14.825304</td>\n",
       "      <td>Slovenia</td>\n",
       "      <td>Slovenia</td>\n",
       "      <td>interception</td>\n",
       "      <td>0</td>\n",
       "      <td>13</td>\n",
       "    </tr>\n",
       "    <tr>\n",
       "      <th>4</th>\n",
       "      <td>14.825304</td>\n",
       "      <td>Slovenia</td>\n",
       "      <td>Slovenia</td>\n",
       "      <td>pass</td>\n",
       "      <td>0</td>\n",
       "      <td>15</td>\n",
       "    </tr>\n",
       "    <tr>\n",
       "      <th>5</th>\n",
       "      <td>14.825304</td>\n",
       "      <td>Kazakhstan</td>\n",
       "      <td>Slovenia</td>\n",
       "      <td>duel</td>\n",
       "      <td>0</td>\n",
       "      <td>17</td>\n",
       "    </tr>\n",
       "    <tr>\n",
       "      <th>6</th>\n",
       "      <td>14.825304</td>\n",
       "      <td>Slovenia</td>\n",
       "      <td>Slovenia</td>\n",
       "      <td>duel</td>\n",
       "      <td>0</td>\n",
       "      <td>17</td>\n",
       "    </tr>\n",
       "    <tr>\n",
       "      <th>7</th>\n",
       "      <td>14.825304</td>\n",
       "      <td>Slovenia</td>\n",
       "      <td>Slovenia</td>\n",
       "      <td>pass</td>\n",
       "      <td>0</td>\n",
       "      <td>18</td>\n",
       "    </tr>\n",
       "    <tr>\n",
       "      <th>8</th>\n",
       "      <td>14.825304</td>\n",
       "      <td>Kazakhstan</td>\n",
       "      <td>Slovenia</td>\n",
       "      <td>duel</td>\n",
       "      <td>0</td>\n",
       "      <td>19</td>\n",
       "    </tr>\n",
       "    <tr>\n",
       "      <th>9</th>\n",
       "      <td>14.825304</td>\n",
       "      <td>Slovenia</td>\n",
       "      <td>Slovenia</td>\n",
       "      <td>duel</td>\n",
       "      <td>0</td>\n",
       "      <td>19</td>\n",
       "    </tr>\n",
       "  </tbody>\n",
       "</table>\n",
       "</div>"
      ],
      "text/plain": [
       "   possession.duration   team.name possession.team.name  type.primary  minute  \\\n",
       "0            14.825304    Slovenia             Slovenia          pass       0   \n",
       "1            14.825304    Slovenia             Slovenia          pass       0   \n",
       "2            14.825304  Kazakhstan             Slovenia          pass       0   \n",
       "3            14.825304    Slovenia             Slovenia  interception       0   \n",
       "4            14.825304    Slovenia             Slovenia          pass       0   \n",
       "5            14.825304  Kazakhstan             Slovenia          duel       0   \n",
       "6            14.825304    Slovenia             Slovenia          duel       0   \n",
       "7            14.825304    Slovenia             Slovenia          pass       0   \n",
       "8            14.825304  Kazakhstan             Slovenia          duel       0   \n",
       "9            14.825304    Slovenia             Slovenia          duel       0   \n",
       "\n",
       "   second  \n",
       "0       5  \n",
       "1       8  \n",
       "2      11  \n",
       "3      13  \n",
       "4      15  \n",
       "5      17  \n",
       "6      17  \n",
       "7      18  \n",
       "8      19  \n",
       "9      19  "
      ]
     },
     "execution_count": 16,
     "metadata": {},
     "output_type": "execute_result"
    }
   ],
   "source": [
    "df_events[[\"possession.duration\", \"team.name\", \"possession.team.name\", \"type.primary\", \"minute\", \"second\"]].head(10)"
   ]
  },
  {
   "cell_type": "markdown",
   "id": "4a07e5ec",
   "metadata": {},
   "source": [
    "## 4.2 Statistics"
   ]
  },
  {
   "cell_type": "markdown",
   "id": "269e00a0",
   "metadata": {},
   "source": [
    "How to do:\n",
    "- pressing datas (Where?)\n",
    "- interception"
   ]
  },
  {
   "cell_type": "markdown",
   "id": "ff070a58",
   "metadata": {},
   "source": [
    "## 4.3 Duel performance of the players"
   ]
  },
  {
   "cell_type": "markdown",
   "id": "6f18f40c",
   "metadata": {},
   "source": [
    "How to do:\n",
    "- analyse the duel data\n",
    "- duels lost/won: how much duel wins? Precentage?\n",
    "- duels in defending times (times from above)\n",
    "- (Data:'groundDuel.opponent.id','groundDuel.opponent.name', 'groundDuel.opponent.position',\\\n",
    "    'groundDuel.duelType', 'groundDuel.keptPossession','groundDuel.progressedWithBall', 'groundDuel.stoppedProgress',\\\n",
    "    'groundDuel.recoveredPossession', 'groundDuel.takeOn','groundDuel.side', 'groundDuel.relatedDuelId')"
   ]
  },
  {
   "cell_type": "markdown",
   "id": "35b77a7d",
   "metadata": {},
   "source": [
    "## 4.4 Goal keeper behaviour"
   ]
  },
  {
   "cell_type": "markdown",
   "id": "9d8f79c6",
   "metadata": {},
   "source": [
    "How to do:\n",
    "- Shots on goal\n",
    "- Shots on goal parried (Precentage)\n",
    "- Passes from goal keeper\n",
    "- game actions from goal keeper\n",
    "- (Data:'shot.goalkeeperActionId',\n",
    "       'shot.goalkeeper.id', 'shot.goalkeeper.name', 'shot.goalkeeper')"
   ]
  }
 ],
 "metadata": {
  "kaggle": {
   "accelerator": "none",
   "dataSources": [
    {
     "datasetId": 4498932,
     "sourceId": 7705928,
     "sourceType": "datasetVersion"
    }
   ],
   "dockerImageVersionId": 30646,
   "isGpuEnabled": false,
   "isInternetEnabled": true,
   "language": "python",
   "sourceType": "notebook"
  },
  "kernelspec": {
   "display_name": "Python 3 (ipykernel)",
   "language": "python",
   "name": "python3"
  },
  "language_info": {
   "codemirror_mode": {
    "name": "ipython",
    "version": 3
   },
   "file_extension": ".py",
   "mimetype": "text/x-python",
   "name": "python",
   "nbconvert_exporter": "python",
   "pygments_lexer": "ipython3",
   "version": "3.11.8"
  },
  "papermill": {
   "default_parameters": {},
   "duration": 7.657144,
   "end_time": "2024-03-01T11:37:07.207599",
   "environment_variables": {},
   "exception": null,
   "input_path": "__notebook__.ipynb",
   "output_path": "__notebook__.ipynb",
   "parameters": {},
   "start_time": "2024-03-01T11:36:59.550455",
   "version": "2.5.0"
  }
 },
 "nbformat": 4,
 "nbformat_minor": 5
}
