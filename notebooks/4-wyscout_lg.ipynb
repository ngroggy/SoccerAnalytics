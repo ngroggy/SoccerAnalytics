{
 "cells": [
  {
   "cell_type": "markdown",
   "id": "31752ba6",
   "metadata": {
    "papermill": {
     "duration": 0.006665,
     "end_time": "2024-03-01T11:37:02.842974",
     "exception": false,
     "start_time": "2024-03-01T11:37:02.836309",
     "status": "completed"
    },
    "tags": []
   },
   "source": [
    "# Wyscout Events Data Loading\n",
    "### Loris"
   ]
  },
  {
   "cell_type": "code",
   "execution_count": 16,
   "id": "090fd1ab",
   "metadata": {
    "_cell_guid": "b1076dfc-b9ad-4769-8c92-a6c4dae69d19",
    "_uuid": "8f2839f25d086af736a60e9eeb907d3b93b6e0e5",
    "execution": {
     "iopub.execute_input": "2024-03-01T11:37:02.858316Z",
     "iopub.status.busy": "2024-03-01T11:37:02.857442Z",
     "iopub.status.idle": "2024-03-01T11:37:03.848377Z",
     "shell.execute_reply": "2024-03-01T11:37:03.847092Z"
    },
    "papermill": {
     "duration": 1.002079,
     "end_time": "2024-03-01T11:37:03.851501",
     "exception": false,
     "start_time": "2024-03-01T11:37:02.849422",
     "status": "completed"
    },
    "tags": []
   },
   "outputs": [],
   "source": [
    "import pandas as pd\n",
    "import json\n",
    "from IPython.display import display\n",
    "import zipfile\n",
    "from pathlib import Path\n",
    "\n",
    "# load custom functions\n",
    "from src.dataloader import dataloader\n"
   ]
  },
  {
   "cell_type": "markdown",
   "id": "87ab4c94",
   "metadata": {},
   "source": [
    "### Load Datas"
   ]
  },
  {
   "cell_type": "code",
   "execution_count": null,
   "id": "84206ba3",
   "metadata": {},
   "outputs": [],
   "source": [
    "# Get all matches from slovenia\n",
    "\n",
    "# Load Data from each game\n",
    "match_id = \"541\"\n",
    "\n",
    "# Waiting for Nic"
   ]
  },
  {
   "cell_type": "markdown",
   "id": "e3a36c2e",
   "metadata": {},
   "source": [
    "# 4 Out of possesion - defense of Slovenia\n",
    "\n",
    "## 4.1 Typical defense formation & style"
   ]
  },
  {
   "cell_type": "markdown",
   "id": "eb94bad1",
   "metadata": {},
   "source": [
    "Get the following out of possesion and the formation of the match --> defense formation"
   ]
  },
  {
   "cell_type": "code",
   "execution_count": null,
   "id": "24b1eb6e",
   "metadata": {},
   "outputs": [],
   "source": [
    "# Get the following:\n",
    "#   - out of possesion\n",
    "#   - formation of the match\n",
    "#   - defense formation\n",
    "#   - heat map of players during defense"
   ]
  },
  {
   "cell_type": "markdown",
   "id": "4a07e5ec",
   "metadata": {},
   "source": [
    "## 4.2 Statistics"
   ]
  },
  {
   "cell_type": "markdown",
   "id": "ff070a58",
   "metadata": {},
   "source": [
    "## 4.3 Duel performance of the players"
   ]
  },
  {
   "cell_type": "markdown",
   "id": "35b77a7d",
   "metadata": {},
   "source": [
    "## 4.4 Goal keeper behaviour"
   ]
  }
 ],
 "metadata": {
  "kaggle": {
   "accelerator": "none",
   "dataSources": [
    {
     "datasetId": 4498932,
     "sourceId": 7705928,
     "sourceType": "datasetVersion"
    }
   ],
   "dockerImageVersionId": 30646,
   "isGpuEnabled": false,
   "isInternetEnabled": true,
   "language": "python",
   "sourceType": "notebook"
  },
  "kernelspec": {
   "display_name": "Python 3 (ipykernel)",
   "language": "python",
   "name": "python3"
  },
  "language_info": {
   "codemirror_mode": {
    "name": "ipython",
    "version": 3
   },
   "file_extension": ".py",
   "mimetype": "text/x-python",
   "name": "python",
   "nbconvert_exporter": "python",
   "pygments_lexer": "ipython3",
   "version": "3.11.8"
  },
  "papermill": {
   "default_parameters": {},
   "duration": 7.657144,
   "end_time": "2024-03-01T11:37:07.207599",
   "environment_variables": {},
   "exception": null,
   "input_path": "__notebook__.ipynb",
   "output_path": "__notebook__.ipynb",
   "parameters": {},
   "start_time": "2024-03-01T11:36:59.550455",
   "version": "2.5.0"
  }
 },
 "nbformat": 4,
 "nbformat_minor": 5
}
