{
 "cells": [
  {
   "cell_type": "markdown",
   "metadata": {},
   "source": [
    "## 5. Set Pieces"
   ]
  },
  {
   "cell_type": "code",
   "execution_count": 29,
   "metadata": {},
   "outputs": [],
   "source": [
    "# standard imports\n",
    "import pandas as pd\n",
    "import numpy as np\n",
    "from IPython.display import display\n",
    "\n",
    "# specfic soccer analysis packages\n",
    "from mplsoccer import Pitch, Sbopen, VerticalPitch\n",
    "\n",
    "# load custom functions\n",
    "from src.visualization import *\n",
    "from src.dataloader import dataloader"
   ]
  },
  {
   "cell_type": "markdown",
   "metadata": {},
   "source": []
  },
  {
   "cell_type": "code",
   "execution_count": 30,
   "metadata": {},
   "outputs": [],
   "source": [
    "match_id = \"5414260\"\n",
    "df_events = dataloader(match_id)"
   ]
  },
  {
   "cell_type": "code",
   "execution_count": 31,
   "metadata": {},
   "outputs": [
    {
     "data": {
      "text/plain": [
       "array(['pass', 'duel', 'game_interruption', 'throw_in', 'interception', 'infraction', 'free_kick', 'touch', 'goal_kick', 'shot', 'clearance', 'offside', 'fairplay', 'corner', 'penalty', 'shot_against', 'acceleration', 'goalkeeper_exit'], dtype=object)"
      ]
     },
     "execution_count": 31,
     "metadata": {},
     "output_type": "execute_result"
    }
   ],
   "source": [
    "df_events['type.primary'].unique()"
   ]
  },
  {
   "cell_type": "markdown",
   "metadata": {},
   "source": [
    "### 5.1 Corners"
   ]
  },
  {
   "cell_type": "code",
   "execution_count": 32,
   "metadata": {},
   "outputs": [],
   "source": [
    "df_corners = df_events[df_events['type.primary'] == 'corner']"
   ]
  },
  {
   "cell_type": "code",
   "execution_count": 33,
   "metadata": {},
   "outputs": [],
   "source": [
    "team_names = df_events[['team.name', 'opponentTeam.name']]"
   ]
  },
  {
   "cell_type": "markdown",
   "metadata": {},
   "source": [
    "### 5.2 Penalties"
   ]
  },
  {
   "cell_type": "code",
   "execution_count": 34,
   "metadata": {},
   "outputs": [],
   "source": [
    "df_penalties = df_events[df_events['type.primary']=='penalty']"
   ]
  },
  {
   "cell_type": "markdown",
   "metadata": {},
   "source": [
    "### 5.3 Free Kicks"
   ]
  },
  {
   "cell_type": "code",
   "execution_count": 35,
   "metadata": {},
   "outputs": [],
   "source": [
    "df_freekicks = df_events[df_events['type.primary'] == 'free_kick']"
   ]
  },
  {
   "cell_type": "code",
   "execution_count": 36,
   "metadata": {},
   "outputs": [],
   "source": [
    "df_names = ['aerialDuel', 'location.x', 'location.y', 'team.id', 'team.name', 'opponentTeam.id', \\\n",
    "              'opponentTeam.name', 'player.id', 'player.name', 'player.position', 'pass.accurate', \\\n",
    "              'pass.angle', 'pass.height', 'pass.length', 'pass.recipient.id', 'pass.recipient.name', \\\n",
    "              'pass.recipient.position', 'pass.endLocation.x', 'pass.endLocation.y', \\\n",
    "              'aerialDuel.opponent.id', 'aerialDuel.opponent.name', 'aerialDuel.opponent.position', \\\n",
    "              'aerialDuel.opponent.height', 'aerialDuel.firstTouch', 'aerialDuel.height', \\\n",
    "              'aerialDuel.relatedDuelId','shot.bodyPart', 'shot.isGoal', 'shot.onTarget', \\\n",
    "              'shot.goalZone', 'shot.xg', 'shot.postShotXg', 'shot.goalkeeperActionId', \\\n",
    "              'shot.goalkeeper.id', 'shot.goalkeeper.name', 'shot.goalkeeper']"
   ]
  }
 ],
 "metadata": {
  "kernelspec": {
   "display_name": "isl_sage",
   "language": "python",
   "name": "python3"
  },
  "language_info": {
   "codemirror_mode": {
    "name": "ipython",
    "version": 3
   },
   "file_extension": ".py",
   "mimetype": "text/x-python",
   "name": "python",
   "nbconvert_exporter": "python",
   "pygments_lexer": "ipython3",
   "version": "3.10.13"
  }
 },
 "nbformat": 4,
 "nbformat_minor": 2
}
