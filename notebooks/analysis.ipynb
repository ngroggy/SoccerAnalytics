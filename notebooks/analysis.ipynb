{
 "cells": [
  {
   "cell_type": "markdown",
   "metadata": {},
   "source": [
    "<center> <h2><b>Analysis notebook</b></h2> </center>"
   ]
  },
  {
   "cell_type": "code",
   "execution_count": 2,
   "metadata": {},
   "outputs": [],
   "source": [
    "from datetime import datetime, timedelta\n",
    "from mplsoccer import VerticalPitch\n",
    "from matplotlib import animation\n",
    "import matplotlib.pyplot as plt\n",
    "from pathlib import Path\n",
    "import imageio.v2 as iio\n",
    "from tqdm import tqdm\n",
    "import pandas as pd\n",
    "import matplotlib\n",
    "import zipfile\n",
    "import shutil\n",
    "import time\n",
    "import json\n",
    "import enum\n",
    "\n",
    "import seaborn as sns\n",
    "import matplotlib.pyplot as plt\n",
    "\n",
    "\n",
    "# set pandas option to show columns of a dataframe\n",
    "pd.set_option('display.max_columns', None)\n",
    "\n",
    "import warnings\n",
    "warnings.filterwarnings('ignore')"
   ]
  },
  {
   "cell_type": "markdown",
   "metadata": {},
   "source": [
    "### Path of file to analyse"
   ]
  },
  {
   "cell_type": "code",
   "execution_count": 3,
   "metadata": {},
   "outputs": [],
   "source": [
    "file_path = 'input/skillcorner/1381458/1381458_dynamic_events.csv'"
   ]
  },
  {
   "cell_type": "markdown",
   "metadata": {},
   "source": [
    "### Helpers methods"
   ]
  },
  {
   "cell_type": "code",
   "execution_count": 4,
   "metadata": {},
   "outputs": [],
   "source": [
    "# Transform the timestamp in numerical value\n",
    "def transformTimestamp(x):\n",
    "    x = str(x).split('.')[0].split(':')\n",
    "    return int(x[0]) * 60 + int(x[1])\n",
    "\n",
    "# Plot categorical values by frequency\n",
    "def histogram_with_categorical_values(title, data):\n",
    "    on_target_count = data.value_counts().reset_index()\n",
    "    on_target_count.columns = ['On Target', 'Count']\n",
    "\n",
    "    sns.set_theme(style=\"darkgrid\")\n",
    "    palette = sns.color_palette(\"coolwarm\", len(on_target_count))\n",
    "\n",
    "    sns.barplot(x='On Target', y='Count', data=on_target_count, palette=palette)\n",
    "\n",
    "    plt.title(title)\n",
    "    plt.xticks(rotation=45)\n",
    "    plt.show()"
   ]
  },
  {
   "cell_type": "code",
   "execution_count": 42,
   "metadata": {},
   "outputs": [],
   "source": [
    "dynamic_events = pd.read_csv(file_path)\n",
    "dynamic_events['time_start'] = dynamic_events['time_start'].apply(transformTimestamp)\n",
    "dynamic_events['time_end'] = dynamic_events['time_end'].apply(transformTimestamp)\n",
    "\n",
    "dynamic_events['possession_duration'] = (dynamic_events['time_end'] - dynamic_events['time_start'])"
   ]
  },
  {
   "cell_type": "markdown",
   "metadata": {},
   "source": [
    "#### Possesion duration"
   ]
  },
  {
   "cell_type": "code",
   "execution_count": 43,
   "metadata": {},
   "outputs": [
    {
     "name": "stdout",
     "output_type": "stream",
     "text": [
      "  team_shortname  possession_duration  possession_percentage\n",
      "0     Luxembourg                  668              54.754098\n",
      "1       Slovakia                  552              45.245902\n"
     ]
    }
   ],
   "source": [
    "team_possession_time = dynamic_events.groupby('team_shortname')['possession_duration'].sum().reset_index()\n",
    "\n",
    "total_possession_time = team_possession_time['possession_duration'].sum()\n",
    "\n",
    "team_possession_time['possession_percentage'] = (team_possession_time['possession_duration'] / total_possession_time) * 100\n",
    "\n",
    "print(team_possession_time)"
   ]
  },
  {
   "cell_type": "code",
   "execution_count": 44,
   "metadata": {},
   "outputs": [
    {
     "name": "stdout",
     "output_type": "stream",
     "text": [
      "['run_ahead_of_the_ball' 'support' 'behind' 'dropping_off' 'pulling_wide'\n",
      " 'cross_receiver' 'underlap' 'coming_short' 'pulling_half_space' 'overlap']\n",
      "      player_name  time_start\n",
      "1       D. Sinani          91\n",
      "5       D. Sinani         136\n",
      "6      C. Martins         136\n",
      "13     P. Pekarík         174\n",
      "19    L. Barreiro         226\n",
      "..            ...         ...\n",
      "482     T. Suslov        5342\n",
      "484  P. Hrošovský        5388\n",
      "486  P. Hrošovský        5432\n",
      "492     M. Chanot        5495\n",
      "495    N. Gyömbér        5638\n",
      "\n",
      "[62 rows x 2 columns]\n"
     ]
    }
   ],
   "source": [
    " #print(dynamic_events.groupby('player_in_possession_name')['speed_avg'].mean().sort_values(ascending=False))\n",
    "\n",
    "print(dynamic_events['event_subtype'].unique())\n",
    "print(dynamic_events[dynamic_events['event_subtype'] == 'support'][['player_name', 'time_start']])\n"
   ]
  },
  {
   "cell_type": "code",
   "execution_count": 45,
   "metadata": {},
   "outputs": [
    {
     "name": "stdout",
     "output_type": "stream",
     "text": [
      "439    4577\n",
      "440    4579\n",
      "441    4579\n",
      "442    4579\n",
      "Name: time_start, dtype: int64\n"
     ]
    }
   ],
   "source": [
    "print(dynamic_events[dynamic_events['lead_to_goal']]['time_start'])"
   ]
  },
  {
   "cell_type": "markdown",
   "metadata": {},
   "source": [
    "#### Possesion per player"
   ]
  },
  {
   "cell_type": "code",
   "execution_count": 46,
   "metadata": {},
   "outputs": [
    {
     "name": "stdout",
     "output_type": "stream",
     "text": [
      "   player_in_possession_name  possession_duration\n",
      "6               G. Rodrigues                  134\n",
      "2                  D. Hancko                   92\n",
      "11                   L. Jans                   78\n",
      "14                M. Martins                   72\n",
      "4                   D. Vavro                   70\n",
      "23                  V. Thill                   64\n",
      "22                 T. Suslov                   62\n",
      "12                 M. Chanot                   62\n",
      "0                   A. Moris                   56\n",
      "1                 C. Martins                   54\n",
      "8                   J. Kucka                   53\n",
      "18                P. Pekarík                   50\n",
      "3                  D. Sinani                   48\n",
      "15                 M. Olesen                   46\n",
      "21                S. Lobotka                   39\n",
      "20               R. Polievka                   38\n",
      "10                 L. Gerson                   37\n",
      "16               M. Škriniar                   36\n",
      "17                   O. Duda                   31\n",
      "7                 I. Schranz                   23\n",
      "19                R. Boženík                   21\n",
      "13               M. Dúbravka                   19\n",
      "5                   D. Ďuriš                   18\n",
      "9                L. Barreiro                   17\n"
     ]
    }
   ],
   "source": [
    "player_possession_time = dynamic_events.groupby('player_in_possession_name')['possession_duration'].sum().reset_index()\n",
    "player_possession_time = player_possession_time.sort_values(by='possession_duration', ascending=False)\n",
    "\n",
    "print(player_possession_time)"
   ]
  },
  {
   "cell_type": "markdown",
   "metadata": {},
   "source": [
    "#### Where do the team plays on the field"
   ]
  },
  {
   "cell_type": "code",
   "execution_count": 59,
   "metadata": {},
   "outputs": [
    {
     "name": "stdout",
     "output_type": "stream",
     "text": [
      "         channel_end        third_end  possession_duration\n",
      "0             center  attacking_third                  245\n",
      "1             center  defensive_third                   47\n",
      "2             center     middle_third                  120\n",
      "3    half_space_left  attacking_third                  128\n",
      "4    half_space_left  defensive_third                   30\n",
      "5    half_space_left     middle_third                   65\n",
      "6   half_space_right  attacking_third                  122\n",
      "7   half_space_right  defensive_third                   23\n",
      "8   half_space_right     middle_third                   73\n",
      "9          wide_left  attacking_third                   56\n",
      "10         wide_left  defensive_third                   24\n",
      "11         wide_left     middle_third                  107\n",
      "12        wide_right  attacking_third                   91\n",
      "13        wide_right  defensive_third                   14\n",
      "14        wide_right     middle_third                   75\n",
      "         channel_end  possession_percentage\n",
      "0             center              20.081967\n",
      "1             center               3.852459\n",
      "2             center               9.836066\n",
      "3    half_space_left              10.491803\n",
      "4    half_space_left               2.459016\n",
      "5    half_space_left               5.327869\n",
      "6   half_space_right              10.000000\n",
      "7   half_space_right               1.885246\n",
      "8   half_space_right               5.983607\n",
      "9          wide_left               4.590164\n",
      "10         wide_left               1.967213\n",
      "11         wide_left               8.770492\n",
      "12        wide_right               7.459016\n",
      "13        wide_right               1.147541\n",
      "14        wide_right               6.147541\n"
     ]
    }
   ],
   "source": [
    "third_possession = dynamic_events.groupby(['channel_end', 'third_end'])['possession_duration'].sum().reset_index()\n",
    "total_possession = third_possession['possession_duration'].sum()\n",
    "third_possession['possession_percentage'] = (third_possession['possession_duration'] / total_possession) * 100\n",
    "print(third_possession[['channel_end','third_end', 'possession_percentage']])"
   ]
  },
  {
   "cell_type": "code",
   "execution_count": 47,
   "metadata": {},
   "outputs": [
    {
     "name": "stdout",
     "output_type": "stream",
     "text": [
      "         third_end  possession_percentage\n",
      "0  attacking_third              52.622951\n",
      "1  defensive_third              11.311475\n",
      "2     middle_third              36.065574\n"
     ]
    }
   ],
   "source": [
    "third_possession = dynamic_events.groupby(['third_end'])['possession_duration'].sum().reset_index()\n",
    "total_possession = third_possession['possession_duration'].sum()\n",
    "third_possession['possession_percentage'] = (third_possession['possession_duration'] / total_possession) * 100\n",
    "print(third_possession[['third_end', 'possession_percentage']])"
   ]
  }
 ],
 "metadata": {
  "kernelspec": {
   "display_name": "base",
   "language": "python",
   "name": "python3"
  },
  "language_info": {
   "codemirror_mode": {
    "name": "ipython",
    "version": 3
   },
   "file_extension": ".py",
   "mimetype": "text/x-python",
   "name": "python",
   "nbconvert_exporter": "python",
   "pygments_lexer": "ipython3",
   "version": "3.11.6"
  }
 },
 "nbformat": 4,
 "nbformat_minor": 2
}
