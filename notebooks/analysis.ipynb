{
 "cells": [
  {
   "cell_type": "markdown",
   "metadata": {},
   "source": [
    "<center> <h2><b>Analysis notebook</b></h2> </center>"
   ]
  },
  {
   "cell_type": "code",
   "execution_count": 82,
   "metadata": {},
   "outputs": [],
   "source": [
    "from datetime import datetime, timedelta\n",
    "from mplsoccer import VerticalPitch\n",
    "from matplotlib import animation\n",
    "import matplotlib.pyplot as plt\n",
    "from pathlib import Path\n",
    "import imageio.v2 as iio\n",
    "from tqdm import tqdm\n",
    "import pandas as pd\n",
    "import matplotlib\n",
    "import zipfile\n",
    "import shutil\n",
    "import time\n",
    "import json\n",
    "import enum\n",
    "\n",
    "import seaborn as sns\n",
    "import matplotlib.pyplot as plt\n",
    "\n",
    "\n",
    "# set pandas option to show columns of a dataframe\n",
    "pd.set_option('display.max_columns', None)\n",
    "\n",
    "import warnings\n",
    "warnings.filterwarnings('ignore')"
   ]
  },
  {
   "cell_type": "markdown",
   "metadata": {},
   "source": [
    "### Path of file to analyse"
   ]
  },
  {
   "cell_type": "code",
   "execution_count": 93,
   "metadata": {},
   "outputs": [],
   "source": [
    "file_path = 'input/skillcorner/1381458/1381458_dynamic_events.csv'"
   ]
  },
  {
   "cell_type": "markdown",
   "metadata": {},
   "source": [
    "### Helpers methods"
   ]
  },
  {
   "cell_type": "code",
   "execution_count": 94,
   "metadata": {},
   "outputs": [],
   "source": [
    "# Transform the timestamp in numerical value\n",
    "def transformTimestamp(x):\n",
    "    x = str(x).split('.')[0].split(':')\n",
    "    return int(x[0]) * 60 + int(x[1])\n",
    "\n",
    "# Plot categorical values by frequency\n",
    "def histogram_with_categorical_values(title, data):\n",
    "    on_target_count = data.value_counts().reset_index()\n",
    "    on_target_count.columns = ['On Target', 'Count']\n",
    "\n",
    "    sns.set_theme(style=\"darkgrid\")\n",
    "    palette = sns.color_palette(\"coolwarm\", len(on_target_count))\n",
    "\n",
    "    sns.barplot(x='On Target', y='Count', data=on_target_count, palette=palette)\n",
    "\n",
    "    plt.title(title)\n",
    "    plt.xticks(rotation=45)\n",
    "    plt.show()"
   ]
  },
  {
   "cell_type": "markdown",
   "metadata": {},
   "source": [
    "#### Possesion duration"
   ]
  },
  {
   "cell_type": "code",
   "execution_count": 95,
   "metadata": {},
   "outputs": [
    {
     "name": "stdout",
     "output_type": "stream",
     "text": [
      "  team_shortname  possession_duration  possession_percentage\n",
      "0     Luxembourg                  668              54.754098\n",
      "1       Slovakia                  552              45.245902\n"
     ]
    }
   ],
   "source": [
    "dynamic_events = pd.read_csv(file_path)\n",
    "dynamic_events['time_start'] = dynamic_events['time_start'].apply(transformTimestamp)\n",
    "dynamic_events['time_end'] = dynamic_events['time_end'].apply(transformTimestamp)\n",
    "\n",
    "dynamic_events['possession_duration'] = (dynamic_events['time_end'] - dynamic_events['time_start'])\n",
    "\n",
    "team_possession_time = dynamic_events.groupby('team_shortname')['possession_duration'].sum().reset_index()\n",
    "\n",
    "total_possession_time = team_possession_time['possession_duration'].sum()\n",
    "\n",
    "team_possession_time['possession_percentage'] = (team_possession_time['possession_duration'] / total_possession_time) * 100\n",
    "\n",
    "print(team_possession_time)"
   ]
  },
  {
   "cell_type": "markdown",
   "metadata": {},
   "source": [
    "#### Possesion per player"
   ]
  },
  {
   "cell_type": "code",
   "execution_count": 96,
   "metadata": {},
   "outputs": [
    {
     "name": "stdout",
     "output_type": "stream",
     "text": [
      "   player_in_possession_name  possession_duration\n",
      "6               G. Rodrigues                  134\n",
      "2                  D. Hancko                   92\n",
      "11                   L. Jans                   78\n",
      "14                M. Martins                   72\n",
      "4                   D. Vavro                   70\n",
      "23                  V. Thill                   64\n",
      "22                 T. Suslov                   62\n",
      "12                 M. Chanot                   62\n",
      "0                   A. Moris                   56\n",
      "1                 C. Martins                   54\n",
      "8                   J. Kucka                   53\n",
      "18                P. Pekarík                   50\n",
      "3                  D. Sinani                   48\n",
      "15                 M. Olesen                   46\n",
      "21                S. Lobotka                   39\n",
      "20               R. Polievka                   38\n",
      "10                 L. Gerson                   37\n",
      "16               M. Škriniar                   36\n",
      "17                   O. Duda                   31\n",
      "7                 I. Schranz                   23\n",
      "19                R. Boženík                   21\n",
      "13               M. Dúbravka                   19\n",
      "5                   D. Ďuriš                   18\n",
      "9                L. Barreiro                   17\n"
     ]
    }
   ],
   "source": [
    "dynamic_events = pd.read_csv(file_path)\n",
    "dynamic_events['time_start'] = dynamic_events['time_start'].apply(transformTimestamp)\n",
    "dynamic_events['time_end'] = dynamic_events['time_end'].apply(transformTimestamp)\n",
    "\n",
    "\n",
    "dynamic_events['possession_duration'] = (dynamic_events['time_end'] - dynamic_events['time_start'])\n",
    "\n",
    "player_possession_time = dynamic_events.groupby('player_in_possession_name')['possession_duration'].sum().reset_index()\n",
    "player_possession_time = player_possession_time.sort_values(by='possession_duration', ascending=False)\n",
    "\n",
    "print(player_possession_time)"
   ]
  },
  {
   "cell_type": "markdown",
   "metadata": {},
   "source": [
    "#### Where do the team plays on the field"
   ]
  },
  {
   "cell_type": "code",
   "execution_count": 97,
   "metadata": {},
   "outputs": [
    {
     "name": "stdout",
     "output_type": "stream",
     "text": [
      "         third_end  possession_percentage\n",
      "0  attacking_third              52.622951\n",
      "1  defensive_third              11.311475\n",
      "2     middle_third              36.065574\n"
     ]
    }
   ],
   "source": [
    "third_possession = dynamic_events.groupby(['third_end'])['possession_duration'].sum().reset_index()\n",
    "total_possession = third_possession['possession_duration'].sum()\n",
    "third_possession['possession_percentage'] = (third_possession['possession_duration'] / total_possession) * 100\n",
    "print(third_possession[['third_end', 'possession_percentage']])"
   ]
  }
 ],
 "metadata": {
  "kernelspec": {
   "display_name": "base",
   "language": "python",
   "name": "python3"
  },
  "language_info": {
   "codemirror_mode": {
    "name": "ipython",
    "version": 3
   },
   "file_extension": ".py",
   "mimetype": "text/x-python",
   "name": "python",
   "nbconvert_exporter": "python",
   "pygments_lexer": "ipython3",
   "version": "3.10.12"
  }
 },
 "nbformat": 4,
 "nbformat_minor": 2
}
