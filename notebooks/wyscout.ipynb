{
 "cells": [
  {
   "cell_type": "markdown",
   "id": "31752ba6",
   "metadata": {
    "papermill": {
     "duration": 0.006665,
     "end_time": "2024-03-01T11:37:02.842974",
     "exception": false,
     "start_time": "2024-03-01T11:37:02.836309",
     "status": "completed"
    },
    "tags": []
   },
   "source": [
    "# Wyscout Events Data Loading\n",
    "### Get the Wyscout data from a JSON file to a Pandas dataframe.\n",
    "### As an example, we will look for all shots on goal during the match."
   ]
  },
  {
   "cell_type": "code",
   "execution_count": 2,
   "id": "090fd1ab",
   "metadata": {
    "_cell_guid": "b1076dfc-b9ad-4769-8c92-a6c4dae69d19",
    "_uuid": "8f2839f25d086af736a60e9eeb907d3b93b6e0e5",
    "execution": {
     "iopub.execute_input": "2024-03-01T11:37:02.858316Z",
     "iopub.status.busy": "2024-03-01T11:37:02.857442Z",
     "iopub.status.idle": "2024-03-01T11:37:03.848377Z",
     "shell.execute_reply": "2024-03-01T11:37:03.847092Z"
    },
    "papermill": {
     "duration": 1.002079,
     "end_time": "2024-03-01T11:37:03.851501",
     "exception": false,
     "start_time": "2024-03-01T11:37:02.849422",
     "status": "completed"
    },
    "tags": []
   },
   "outputs": [],
   "source": [
    "import pandas as pd\n",
    "import json\n",
    "from IPython.display import display\n",
    "import zipfile\n",
    "from pathlib import Path"
   ]
  },
  {
   "cell_type": "code",
   "execution_count": 10,
   "id": "00fed1c4",
   "metadata": {
    "execution": {
     "iopub.execute_input": "2024-03-01T11:37:03.867478Z",
     "iopub.status.busy": "2024-03-01T11:37:03.866585Z",
     "iopub.status.idle": "2024-03-01T11:37:03.871179Z",
     "shell.execute_reply": "2024-03-01T11:37:03.870225Z"
    },
    "papermill": {
     "duration": 0.015474,
     "end_time": "2024-03-01T11:37:03.873651",
     "exception": false,
     "start_time": "2024-03-01T11:37:03.858177",
     "status": "completed"
    },
    "tags": []
   },
   "outputs": [],
   "source": [
    "base_path = './input/wyscout'\n",
    "\n",
    "# You can adjust the match_id according to your assigned task\n",
    "match_id = \"5414103\"\n",
    "\n",
    "file_name = match_id + '.json'"
   ]
  },
  {
   "cell_type": "code",
   "execution_count": 4,
   "id": "f7c48edc",
   "metadata": {
    "execution": {
     "iopub.execute_input": "2024-03-01T11:37:03.888275Z",
     "iopub.status.busy": "2024-03-01T11:37:03.887464Z",
     "iopub.status.idle": "2024-03-01T11:37:03.894357Z",
     "shell.execute_reply": "2024-03-01T11:37:03.892723Z"
    },
    "papermill": {
     "duration": 0.017277,
     "end_time": "2024-03-01T11:37:03.897163",
     "exception": false,
     "start_time": "2024-03-01T11:37:03.879886",
     "status": "completed"
    },
    "tags": []
   },
   "outputs": [],
   "source": [
    "# This function reads the wyscout_eventdata (JSON file) and converts it to a\n",
    "# pandas DataFrame.\n",
    "# The Wyscout data consists of\n",
    "#  - A meta part (which is empty)\n",
    "#  - An events part.\n",
    "# We are interested in the events part of the DataFrame.\n",
    "\n",
    "def wyscout_json_to_df(file_name):\n",
    "    match_id = file_name[:-5]\n",
    "\n",
    "    # Create the input_dir if it does not exist\n",
    "    unzip_dir = Path(\"./\" + base_path + '/' + f\"{match_id}/\")\n",
    "\n",
    "    if not unzip_dir.exists():\n",
    "        unzip_dir.mkdir(parents=True, exist_ok=True)\n",
    "\n",
    "    # Extract the zip file\n",
    "    zip_file = f\"./input/wyscout/{match_id}.zip\"\n",
    "\n",
    "    with zipfile.ZipFile(zip_file, 'r') as zip_ref:\n",
    "        zip_ref.extractall(unzip_dir)\n",
    "\n",
    "    with open(base_path + f\"/{match_id}\" + '/' + file_name, encoding='utf8') as f:\n",
    "        js = json.load(f)\n",
    "        df = pd.json_normalize(js['events'])\n",
    "    return df"
   ]
  },
  {
   "cell_type": "markdown",
   "id": "a1943bd1",
   "metadata": {
    "papermill": {
     "duration": 0.00635,
     "end_time": "2024-03-01T11:37:03.909711",
     "exception": false,
     "start_time": "2024-03-01T11:37:03.903361",
     "status": "completed"
    },
    "tags": []
   },
   "source": [
    "## Let's have a look at the keys which are converted into columns in the pandas DataFrame"
   ]
  },
  {
   "cell_type": "code",
   "execution_count": 11,
   "id": "36bebf8b",
   "metadata": {
    "execution": {
     "iopub.execute_input": "2024-03-01T11:37:03.924864Z",
     "iopub.status.busy": "2024-03-01T11:37:03.924133Z",
     "iopub.status.idle": "2024-03-01T11:37:04.312866Z",
     "shell.execute_reply": "2024-03-01T11:37:04.311361Z"
    },
    "papermill": {
     "duration": 0.400622,
     "end_time": "2024-03-01T11:37:04.316609",
     "exception": false,
     "start_time": "2024-03-01T11:37:03.915987",
     "status": "completed"
    },
    "tags": []
   },
   "outputs": [
    {
     "ename": "FileNotFoundError",
     "evalue": "[Errno 2] No such file or directory: '/input/wyscout/5414103/5414103.json'",
     "output_type": "error",
     "traceback": [
      "\u001b[1;31m---------------------------------------------------------------------------\u001b[0m",
      "\u001b[1;31mFileNotFoundError\u001b[0m                         Traceback (most recent call last)",
      "Cell \u001b[1;32mIn[11], line 1\u001b[0m\n\u001b[1;32m----> 1\u001b[0m df_events \u001b[38;5;241m=\u001b[39m \u001b[43mwyscout_json_to_df\u001b[49m\u001b[43m(\u001b[49m\u001b[43mfile_name\u001b[49m\u001b[43m)\u001b[49m\n\u001b[0;32m      3\u001b[0m \u001b[38;5;66;03m#save df to csv\u001b[39;00m\n\u001b[0;32m      4\u001b[0m \u001b[38;5;28;01mif\u001b[39;00m \u001b[38;5;129;01mnot\u001b[39;00m Path(\u001b[38;5;124m\"\u001b[39m\u001b[38;5;124m./results/wyscout/\u001b[39m\u001b[38;5;124m\"\u001b[39m)\u001b[38;5;241m.\u001b[39mexists():\n",
      "Cell \u001b[1;32mIn[4], line 23\u001b[0m, in \u001b[0;36mwyscout_json_to_df\u001b[1;34m(file_name)\u001b[0m\n\u001b[0;32m     20\u001b[0m \u001b[38;5;28;01mwith\u001b[39;00m zipfile\u001b[38;5;241m.\u001b[39mZipFile(zip_file, \u001b[38;5;124m'\u001b[39m\u001b[38;5;124mr\u001b[39m\u001b[38;5;124m'\u001b[39m) \u001b[38;5;28;01mas\u001b[39;00m zip_ref:\n\u001b[0;32m     21\u001b[0m     zip_ref\u001b[38;5;241m.\u001b[39mextractall(unzip_dir)\n\u001b[1;32m---> 23\u001b[0m \u001b[38;5;28;01mwith\u001b[39;00m \u001b[38;5;28;43mopen\u001b[39;49m\u001b[43m(\u001b[49m\u001b[43mbase_path\u001b[49m\u001b[43m \u001b[49m\u001b[38;5;241;43m+\u001b[39;49m\u001b[43m \u001b[49m\u001b[38;5;124;43mf\u001b[39;49m\u001b[38;5;124;43m\"\u001b[39;49m\u001b[38;5;124;43m/\u001b[39;49m\u001b[38;5;132;43;01m{\u001b[39;49;00m\u001b[43mmatch_id\u001b[49m\u001b[38;5;132;43;01m}\u001b[39;49;00m\u001b[38;5;124;43m\"\u001b[39;49m\u001b[43m \u001b[49m\u001b[38;5;241;43m+\u001b[39;49m\u001b[43m \u001b[49m\u001b[38;5;124;43m'\u001b[39;49m\u001b[38;5;124;43m/\u001b[39;49m\u001b[38;5;124;43m'\u001b[39;49m\u001b[43m \u001b[49m\u001b[38;5;241;43m+\u001b[39;49m\u001b[43m \u001b[49m\u001b[43mfile_name\u001b[49m\u001b[43m,\u001b[49m\u001b[43m \u001b[49m\u001b[43mencoding\u001b[49m\u001b[38;5;241;43m=\u001b[39;49m\u001b[38;5;124;43m'\u001b[39;49m\u001b[38;5;124;43mutf8\u001b[39;49m\u001b[38;5;124;43m'\u001b[39;49m\u001b[43m)\u001b[49m \u001b[38;5;28;01mas\u001b[39;00m f:\n\u001b[0;32m     24\u001b[0m     js \u001b[38;5;241m=\u001b[39m json\u001b[38;5;241m.\u001b[39mload(f)\n\u001b[0;32m     25\u001b[0m     df \u001b[38;5;241m=\u001b[39m pd\u001b[38;5;241m.\u001b[39mjson_normalize(js[\u001b[38;5;124m'\u001b[39m\u001b[38;5;124mevents\u001b[39m\u001b[38;5;124m'\u001b[39m])\n",
      "File \u001b[1;32m~\\AppData\\Roaming\\Python\\Python311\\site-packages\\IPython\\core\\interactiveshell.py:324\u001b[0m, in \u001b[0;36m_modified_open\u001b[1;34m(file, *args, **kwargs)\u001b[0m\n\u001b[0;32m    317\u001b[0m \u001b[38;5;28;01mif\u001b[39;00m file \u001b[38;5;129;01min\u001b[39;00m {\u001b[38;5;241m0\u001b[39m, \u001b[38;5;241m1\u001b[39m, \u001b[38;5;241m2\u001b[39m}:\n\u001b[0;32m    318\u001b[0m     \u001b[38;5;28;01mraise\u001b[39;00m \u001b[38;5;167;01mValueError\u001b[39;00m(\n\u001b[0;32m    319\u001b[0m         \u001b[38;5;124mf\u001b[39m\u001b[38;5;124m\"\u001b[39m\u001b[38;5;124mIPython won\u001b[39m\u001b[38;5;124m'\u001b[39m\u001b[38;5;124mt let you open fd=\u001b[39m\u001b[38;5;132;01m{\u001b[39;00mfile\u001b[38;5;132;01m}\u001b[39;00m\u001b[38;5;124m by default \u001b[39m\u001b[38;5;124m\"\u001b[39m\n\u001b[0;32m    320\u001b[0m         \u001b[38;5;124m\"\u001b[39m\u001b[38;5;124mas it is likely to crash IPython. If you know what you are doing, \u001b[39m\u001b[38;5;124m\"\u001b[39m\n\u001b[0;32m    321\u001b[0m         \u001b[38;5;124m\"\u001b[39m\u001b[38;5;124myou can use builtins\u001b[39m\u001b[38;5;124m'\u001b[39m\u001b[38;5;124m open.\u001b[39m\u001b[38;5;124m\"\u001b[39m\n\u001b[0;32m    322\u001b[0m     )\n\u001b[1;32m--> 324\u001b[0m \u001b[38;5;28;01mreturn\u001b[39;00m \u001b[43mio_open\u001b[49m\u001b[43m(\u001b[49m\u001b[43mfile\u001b[49m\u001b[43m,\u001b[49m\u001b[43m \u001b[49m\u001b[38;5;241;43m*\u001b[39;49m\u001b[43margs\u001b[49m\u001b[43m,\u001b[49m\u001b[43m \u001b[49m\u001b[38;5;241;43m*\u001b[39;49m\u001b[38;5;241;43m*\u001b[39;49m\u001b[43mkwargs\u001b[49m\u001b[43m)\u001b[49m\n",
      "\u001b[1;31mFileNotFoundError\u001b[0m: [Errno 2] No such file or directory: '/input/wyscout/5414103/5414103.json'"
     ]
    }
   ],
   "source": [
    "df_events = wyscout_json_to_df(file_name)\n",
    "\n",
    "#save df to csv\n",
    "if not Path(\"./results/wyscout/\").exists():\n",
    "        Path(\"./results/wyscout/\").mkdir(parents=True, exist_ok=True)\n",
    "\n",
    "df_events.to_csv(f\"./results/wyscout/{match_id}_df_events.csv\")"
   ]
  },
  {
   "cell_type": "code",
   "execution_count": 6,
   "id": "838b7d41",
   "metadata": {
    "execution": {
     "iopub.execute_input": "2024-03-01T11:37:04.332405Z",
     "iopub.status.busy": "2024-03-01T11:37:04.331972Z",
     "iopub.status.idle": "2024-03-01T11:37:04.338662Z",
     "shell.execute_reply": "2024-03-01T11:37:04.337469Z"
    },
    "papermill": {
     "duration": 0.018636,
     "end_time": "2024-03-01T11:37:04.342563",
     "exception": false,
     "start_time": "2024-03-01T11:37:04.323927",
     "status": "completed"
    },
    "tags": []
   },
   "outputs": [
    {
     "ename": "NameError",
     "evalue": "name 'df_events' is not defined",
     "output_type": "error",
     "traceback": [
      "\u001b[1;31m---------------------------------------------------------------------------\u001b[0m",
      "\u001b[1;31mNameError\u001b[0m                                 Traceback (most recent call last)",
      "Cell \u001b[1;32mIn[6], line 1\u001b[0m\n\u001b[1;32m----> 1\u001b[0m \u001b[38;5;28mprint\u001b[39m(\u001b[43mdf_events\u001b[49m\u001b[38;5;241m.\u001b[39mcolumns, \u001b[38;5;124m\"\u001b[39m\u001b[38;5;130;01m\\n\u001b[39;00m\u001b[38;5;124m\"\u001b[39m)\n",
      "\u001b[1;31mNameError\u001b[0m: name 'df_events' is not defined"
     ]
    }
   ],
   "source": [
    "print(df_events.columns, \"\\n\")"
   ]
  },
  {
   "cell_type": "code",
   "execution_count": 7,
   "id": "c46586c2",
   "metadata": {
    "execution": {
     "iopub.execute_input": "2024-03-01T11:37:04.356975Z",
     "iopub.status.busy": "2024-03-01T11:37:04.356529Z",
     "iopub.status.idle": "2024-03-01T11:37:04.397816Z",
     "shell.execute_reply": "2024-03-01T11:37:04.396345Z"
    },
    "papermill": {
     "duration": 0.051797,
     "end_time": "2024-03-01T11:37:04.400722",
     "exception": false,
     "start_time": "2024-03-01T11:37:04.348925",
     "status": "completed"
    },
    "tags": []
   },
   "outputs": [
    {
     "ename": "NameError",
     "evalue": "name 'df_events' is not defined",
     "output_type": "error",
     "traceback": [
      "\u001b[1;31m---------------------------------------------------------------------------\u001b[0m",
      "\u001b[1;31mNameError\u001b[0m                                 Traceback (most recent call last)",
      "Cell \u001b[1;32mIn[7], line 1\u001b[0m\n\u001b[1;32m----> 1\u001b[0m \u001b[43mdf_events\u001b[49m\u001b[38;5;241m.\u001b[39mhead()\n",
      "\u001b[1;31mNameError\u001b[0m: name 'df_events' is not defined"
     ]
    }
   ],
   "source": [
    "df_events.head()"
   ]
  },
  {
   "cell_type": "code",
   "execution_count": null,
   "id": "e111c553",
   "metadata": {
    "execution": {
     "iopub.execute_input": "2024-03-01T11:37:04.416391Z",
     "iopub.status.busy": "2024-03-01T11:37:04.415963Z",
     "iopub.status.idle": "2024-03-01T11:37:04.449620Z",
     "shell.execute_reply": "2024-03-01T11:37:04.448680Z"
    },
    "papermill": {
     "duration": 0.04451,
     "end_time": "2024-03-01T11:37:04.452149",
     "exception": false,
     "start_time": "2024-03-01T11:37:04.407639",
     "status": "completed"
    },
    "tags": []
   },
   "outputs": [
    {
     "data": {
      "text/html": [
       "<div>\n",
       "<style scoped>\n",
       "    .dataframe tbody tr th:only-of-type {\n",
       "        vertical-align: middle;\n",
       "    }\n",
       "\n",
       "    .dataframe tbody tr th {\n",
       "        vertical-align: top;\n",
       "    }\n",
       "\n",
       "    .dataframe thead th {\n",
       "        text-align: right;\n",
       "    }\n",
       "</style>\n",
       "<table border=\"1\" class=\"dataframe\">\n",
       "  <thead>\n",
       "    <tr style=\"text-align: right;\">\n",
       "      <th></th>\n",
       "      <th>id</th>\n",
       "      <th>matchId</th>\n",
       "      <th>matchPeriod</th>\n",
       "      <th>minute</th>\n",
       "      <th>second</th>\n",
       "      <th>matchTimestamp</th>\n",
       "      <th>videoTimestamp</th>\n",
       "      <th>relatedEventId</th>\n",
       "      <th>shot</th>\n",
       "      <th>groundDuel</th>\n",
       "      <th>...</th>\n",
       "      <th>groundDuel.takeOn</th>\n",
       "      <th>groundDuel.side</th>\n",
       "      <th>groundDuel.relatedDuelId</th>\n",
       "      <th>possession</th>\n",
       "      <th>shot.goalkeeper</th>\n",
       "      <th>location</th>\n",
       "      <th>carry.progression</th>\n",
       "      <th>carry.endLocation.x</th>\n",
       "      <th>carry.endLocation.y</th>\n",
       "      <th>infraction.opponent</th>\n",
       "    </tr>\n",
       "  </thead>\n",
       "  <tbody>\n",
       "    <tr>\n",
       "      <th>0</th>\n",
       "      <td>1615272856</td>\n",
       "      <td>5414103</td>\n",
       "      <td>1H</td>\n",
       "      <td>0</td>\n",
       "      <td>5</td>\n",
       "      <td>00:00:05.650</td>\n",
       "      <td>6.650953</td>\n",
       "      <td>1.615273e+09</td>\n",
       "      <td>NaN</td>\n",
       "      <td>NaN</td>\n",
       "      <td>...</td>\n",
       "      <td>NaN</td>\n",
       "      <td>NaN</td>\n",
       "      <td>NaN</td>\n",
       "      <td>NaN</td>\n",
       "      <td>NaN</td>\n",
       "      <td>NaN</td>\n",
       "      <td>NaN</td>\n",
       "      <td>NaN</td>\n",
       "      <td>NaN</td>\n",
       "      <td>NaN</td>\n",
       "    </tr>\n",
       "    <tr>\n",
       "      <th>1</th>\n",
       "      <td>1615272858</td>\n",
       "      <td>5414103</td>\n",
       "      <td>1H</td>\n",
       "      <td>0</td>\n",
       "      <td>8</td>\n",
       "      <td>00:00:08.640</td>\n",
       "      <td>9.640166</td>\n",
       "      <td>1.615273e+09</td>\n",
       "      <td>NaN</td>\n",
       "      <td>NaN</td>\n",
       "      <td>...</td>\n",
       "      <td>NaN</td>\n",
       "      <td>NaN</td>\n",
       "      <td>NaN</td>\n",
       "      <td>NaN</td>\n",
       "      <td>NaN</td>\n",
       "      <td>NaN</td>\n",
       "      <td>NaN</td>\n",
       "      <td>NaN</td>\n",
       "      <td>NaN</td>\n",
       "      <td>NaN</td>\n",
       "    </tr>\n",
       "    <tr>\n",
       "      <th>2</th>\n",
       "      <td>1615272585</td>\n",
       "      <td>5414103</td>\n",
       "      <td>1H</td>\n",
       "      <td>0</td>\n",
       "      <td>11</td>\n",
       "      <td>00:00:11.653</td>\n",
       "      <td>12.653879</td>\n",
       "      <td>1.615273e+09</td>\n",
       "      <td>NaN</td>\n",
       "      <td>NaN</td>\n",
       "      <td>...</td>\n",
       "      <td>NaN</td>\n",
       "      <td>NaN</td>\n",
       "      <td>NaN</td>\n",
       "      <td>NaN</td>\n",
       "      <td>NaN</td>\n",
       "      <td>NaN</td>\n",
       "      <td>NaN</td>\n",
       "      <td>NaN</td>\n",
       "      <td>NaN</td>\n",
       "      <td>NaN</td>\n",
       "    </tr>\n",
       "    <tr>\n",
       "      <th>3</th>\n",
       "      <td>1615272859</td>\n",
       "      <td>5414103</td>\n",
       "      <td>1H</td>\n",
       "      <td>0</td>\n",
       "      <td>13</td>\n",
       "      <td>00:00:13.533</td>\n",
       "      <td>14.533728</td>\n",
       "      <td>1.615273e+09</td>\n",
       "      <td>NaN</td>\n",
       "      <td>NaN</td>\n",
       "      <td>...</td>\n",
       "      <td>NaN</td>\n",
       "      <td>NaN</td>\n",
       "      <td>NaN</td>\n",
       "      <td>NaN</td>\n",
       "      <td>NaN</td>\n",
       "      <td>NaN</td>\n",
       "      <td>NaN</td>\n",
       "      <td>NaN</td>\n",
       "      <td>NaN</td>\n",
       "      <td>NaN</td>\n",
       "    </tr>\n",
       "    <tr>\n",
       "      <th>4</th>\n",
       "      <td>1615272860</td>\n",
       "      <td>5414103</td>\n",
       "      <td>1H</td>\n",
       "      <td>0</td>\n",
       "      <td>15</td>\n",
       "      <td>00:00:15.373</td>\n",
       "      <td>16.373945</td>\n",
       "      <td>1.615273e+09</td>\n",
       "      <td>NaN</td>\n",
       "      <td>NaN</td>\n",
       "      <td>...</td>\n",
       "      <td>NaN</td>\n",
       "      <td>NaN</td>\n",
       "      <td>NaN</td>\n",
       "      <td>NaN</td>\n",
       "      <td>NaN</td>\n",
       "      <td>NaN</td>\n",
       "      <td>NaN</td>\n",
       "      <td>NaN</td>\n",
       "      <td>NaN</td>\n",
       "      <td>NaN</td>\n",
       "    </tr>\n",
       "    <tr>\n",
       "      <th>...</th>\n",
       "      <td>...</td>\n",
       "      <td>...</td>\n",
       "      <td>...</td>\n",
       "      <td>...</td>\n",
       "      <td>...</td>\n",
       "      <td>...</td>\n",
       "      <td>...</td>\n",
       "      <td>...</td>\n",
       "      <td>...</td>\n",
       "      <td>...</td>\n",
       "      <td>...</td>\n",
       "      <td>...</td>\n",
       "      <td>...</td>\n",
       "      <td>...</td>\n",
       "      <td>...</td>\n",
       "      <td>...</td>\n",
       "      <td>...</td>\n",
       "      <td>...</td>\n",
       "      <td>...</td>\n",
       "      <td>...</td>\n",
       "      <td>...</td>\n",
       "    </tr>\n",
       "    <tr>\n",
       "      <th>1524</th>\n",
       "      <td>1615274276</td>\n",
       "      <td>5414103</td>\n",
       "      <td>2H</td>\n",
       "      <td>95</td>\n",
       "      <td>23</td>\n",
       "      <td>01:35:23.138</td>\n",
       "      <td>5920.138835</td>\n",
       "      <td>1.615274e+09</td>\n",
       "      <td>NaN</td>\n",
       "      <td>NaN</td>\n",
       "      <td>...</td>\n",
       "      <td>NaN</td>\n",
       "      <td>NaN</td>\n",
       "      <td>NaN</td>\n",
       "      <td>NaN</td>\n",
       "      <td>NaN</td>\n",
       "      <td>NaN</td>\n",
       "      <td>NaN</td>\n",
       "      <td>NaN</td>\n",
       "      <td>NaN</td>\n",
       "      <td>NaN</td>\n",
       "    </tr>\n",
       "    <tr>\n",
       "      <th>1525</th>\n",
       "      <td>1615274277</td>\n",
       "      <td>5414103</td>\n",
       "      <td>2H</td>\n",
       "      <td>95</td>\n",
       "      <td>24</td>\n",
       "      <td>01:35:24.473</td>\n",
       "      <td>5921.473681</td>\n",
       "      <td>1.615274e+09</td>\n",
       "      <td>NaN</td>\n",
       "      <td>NaN</td>\n",
       "      <td>...</td>\n",
       "      <td>NaN</td>\n",
       "      <td>NaN</td>\n",
       "      <td>NaN</td>\n",
       "      <td>NaN</td>\n",
       "      <td>NaN</td>\n",
       "      <td>NaN</td>\n",
       "      <td>NaN</td>\n",
       "      <td>NaN</td>\n",
       "      <td>NaN</td>\n",
       "      <td>NaN</td>\n",
       "    </tr>\n",
       "    <tr>\n",
       "      <th>1526</th>\n",
       "      <td>1615273732</td>\n",
       "      <td>5414103</td>\n",
       "      <td>2H</td>\n",
       "      <td>95</td>\n",
       "      <td>27</td>\n",
       "      <td>01:35:27.009</td>\n",
       "      <td>5924.009912</td>\n",
       "      <td>1.615274e+09</td>\n",
       "      <td>NaN</td>\n",
       "      <td>NaN</td>\n",
       "      <td>...</td>\n",
       "      <td>NaN</td>\n",
       "      <td>NaN</td>\n",
       "      <td>NaN</td>\n",
       "      <td>NaN</td>\n",
       "      <td>NaN</td>\n",
       "      <td>NaN</td>\n",
       "      <td>NaN</td>\n",
       "      <td>NaN</td>\n",
       "      <td>NaN</td>\n",
       "      <td>NaN</td>\n",
       "    </tr>\n",
       "    <tr>\n",
       "      <th>1527</th>\n",
       "      <td>1615273733</td>\n",
       "      <td>5414103</td>\n",
       "      <td>2H</td>\n",
       "      <td>95</td>\n",
       "      <td>30</td>\n",
       "      <td>01:35:30.400</td>\n",
       "      <td>5927.400774</td>\n",
       "      <td>1.615274e+09</td>\n",
       "      <td>NaN</td>\n",
       "      <td>NaN</td>\n",
       "      <td>...</td>\n",
       "      <td>NaN</td>\n",
       "      <td>NaN</td>\n",
       "      <td>NaN</td>\n",
       "      <td>NaN</td>\n",
       "      <td>NaN</td>\n",
       "      <td>NaN</td>\n",
       "      <td>NaN</td>\n",
       "      <td>NaN</td>\n",
       "      <td>NaN</td>\n",
       "      <td>NaN</td>\n",
       "    </tr>\n",
       "    <tr>\n",
       "      <th>1528</th>\n",
       "      <td>1615274278</td>\n",
       "      <td>5414103</td>\n",
       "      <td>2H</td>\n",
       "      <td>95</td>\n",
       "      <td>32</td>\n",
       "      <td>01:35:32.274</td>\n",
       "      <td>5929.274614</td>\n",
       "      <td>NaN</td>\n",
       "      <td>NaN</td>\n",
       "      <td>NaN</td>\n",
       "      <td>...</td>\n",
       "      <td>NaN</td>\n",
       "      <td>NaN</td>\n",
       "      <td>NaN</td>\n",
       "      <td>NaN</td>\n",
       "      <td>NaN</td>\n",
       "      <td>NaN</td>\n",
       "      <td>NaN</td>\n",
       "      <td>NaN</td>\n",
       "      <td>NaN</td>\n",
       "      <td>NaN</td>\n",
       "    </tr>\n",
       "  </tbody>\n",
       "</table>\n",
       "<p>1529 rows × 94 columns</p>\n",
       "</div>"
      ],
      "text/plain": [
       "              id  matchId matchPeriod  minute  second matchTimestamp  \\\n",
       "0     1615272856  5414103          1H       0       5   00:00:05.650   \n",
       "1     1615272858  5414103          1H       0       8   00:00:08.640   \n",
       "2     1615272585  5414103          1H       0      11   00:00:11.653   \n",
       "3     1615272859  5414103          1H       0      13   00:00:13.533   \n",
       "4     1615272860  5414103          1H       0      15   00:00:15.373   \n",
       "...          ...      ...         ...     ...     ...            ...   \n",
       "1524  1615274276  5414103          2H      95      23   01:35:23.138   \n",
       "1525  1615274277  5414103          2H      95      24   01:35:24.473   \n",
       "1526  1615273732  5414103          2H      95      27   01:35:27.009   \n",
       "1527  1615273733  5414103          2H      95      30   01:35:30.400   \n",
       "1528  1615274278  5414103          2H      95      32   01:35:32.274   \n",
       "\n",
       "     videoTimestamp  relatedEventId  shot  groundDuel  ...  groundDuel.takeOn  \\\n",
       "0          6.650953    1.615273e+09   NaN         NaN  ...                NaN   \n",
       "1          9.640166    1.615273e+09   NaN         NaN  ...                NaN   \n",
       "2         12.653879    1.615273e+09   NaN         NaN  ...                NaN   \n",
       "3         14.533728    1.615273e+09   NaN         NaN  ...                NaN   \n",
       "4         16.373945    1.615273e+09   NaN         NaN  ...                NaN   \n",
       "...             ...             ...   ...         ...  ...                ...   \n",
       "1524    5920.138835    1.615274e+09   NaN         NaN  ...                NaN   \n",
       "1525    5921.473681    1.615274e+09   NaN         NaN  ...                NaN   \n",
       "1526    5924.009912    1.615274e+09   NaN         NaN  ...                NaN   \n",
       "1527    5927.400774    1.615274e+09   NaN         NaN  ...                NaN   \n",
       "1528    5929.274614             NaN   NaN         NaN  ...                NaN   \n",
       "\n",
       "      groundDuel.side  groundDuel.relatedDuelId possession shot.goalkeeper  \\\n",
       "0                 NaN                       NaN        NaN             NaN   \n",
       "1                 NaN                       NaN        NaN             NaN   \n",
       "2                 NaN                       NaN        NaN             NaN   \n",
       "3                 NaN                       NaN        NaN             NaN   \n",
       "4                 NaN                       NaN        NaN             NaN   \n",
       "...               ...                       ...        ...             ...   \n",
       "1524              NaN                       NaN        NaN             NaN   \n",
       "1525              NaN                       NaN        NaN             NaN   \n",
       "1526              NaN                       NaN        NaN             NaN   \n",
       "1527              NaN                       NaN        NaN             NaN   \n",
       "1528              NaN                       NaN        NaN             NaN   \n",
       "\n",
       "      location  carry.progression  carry.endLocation.x carry.endLocation.y  \\\n",
       "0          NaN                NaN                  NaN                 NaN   \n",
       "1          NaN                NaN                  NaN                 NaN   \n",
       "2          NaN                NaN                  NaN                 NaN   \n",
       "3          NaN                NaN                  NaN                 NaN   \n",
       "4          NaN                NaN                  NaN                 NaN   \n",
       "...        ...                ...                  ...                 ...   \n",
       "1524       NaN                NaN                  NaN                 NaN   \n",
       "1525       NaN                NaN                  NaN                 NaN   \n",
       "1526       NaN                NaN                  NaN                 NaN   \n",
       "1527       NaN                NaN                  NaN                 NaN   \n",
       "1528       NaN                NaN                  NaN                 NaN   \n",
       "\n",
       "     infraction.opponent  \n",
       "0                    NaN  \n",
       "1                    NaN  \n",
       "2                    NaN  \n",
       "3                    NaN  \n",
       "4                    NaN  \n",
       "...                  ...  \n",
       "1524                 NaN  \n",
       "1525                 NaN  \n",
       "1526                 NaN  \n",
       "1527                 NaN  \n",
       "1528                 NaN  \n",
       "\n",
       "[1529 rows x 94 columns]"
      ]
     },
     "execution_count": 126,
     "metadata": {},
     "output_type": "execute_result"
    }
   ],
   "source": [
    "df_events"
   ]
  },
  {
   "cell_type": "code",
   "execution_count": null,
   "id": "f2c96c39",
   "metadata": {
    "execution": {
     "iopub.execute_input": "2024-03-01T11:37:04.469827Z",
     "iopub.status.busy": "2024-03-01T11:37:04.468492Z",
     "iopub.status.idle": "2024-03-01T11:37:04.478797Z",
     "shell.execute_reply": "2024-03-01T11:37:04.477559Z"
    },
    "papermill": {
     "duration": 0.022216,
     "end_time": "2024-03-01T11:37:04.481887",
     "exception": false,
     "start_time": "2024-03-01T11:37:04.459671",
     "status": "completed"
    },
    "tags": []
   },
   "outputs": [],
   "source": [
    "df_shots = df_events[(df_events['type.primary']=='shot') | (df_events['type.primary']=='penalty')]"
   ]
  },
  {
   "cell_type": "code",
   "execution_count": null,
   "id": "de5ba8a0",
   "metadata": {
    "execution": {
     "iopub.execute_input": "2024-03-01T11:37:04.498666Z",
     "iopub.status.busy": "2024-03-01T11:37:04.498247Z",
     "iopub.status.idle": "2024-03-01T11:37:04.504846Z",
     "shell.execute_reply": "2024-03-01T11:37:04.503148Z"
    },
    "papermill": {
     "duration": 0.0189,
     "end_time": "2024-03-01T11:37:04.508299",
     "exception": false,
     "start_time": "2024-03-01T11:37:04.489399",
     "status": "completed"
    },
    "tags": []
   },
   "outputs": [
    {
     "name": "stdout",
     "output_type": "stream",
     "text": [
      "18 \n",
      "\n"
     ]
    }
   ],
   "source": [
    "# The total number of shots and penalties is\n",
    "print(len(df_shots), \"\\n\")"
   ]
  },
  {
   "cell_type": "code",
   "execution_count": null,
   "id": "fecd2e04",
   "metadata": {
    "execution": {
     "iopub.execute_input": "2024-03-01T11:37:04.526216Z",
     "iopub.status.busy": "2024-03-01T11:37:04.525538Z",
     "iopub.status.idle": "2024-03-01T11:37:04.532386Z",
     "shell.execute_reply": "2024-03-01T11:37:04.531207Z"
    },
    "papermill": {
     "duration": 0.019087,
     "end_time": "2024-03-01T11:37:04.534976",
     "exception": false,
     "start_time": "2024-03-01T11:37:04.515889",
     "status": "completed"
    },
    "tags": []
   },
   "outputs": [
    {
     "name": "stdout",
     "output_type": "stream",
     "text": [
      "40      False\n",
      "205     False\n",
      "380      True\n",
      "566     False\n",
      "592     False\n",
      "689     False\n",
      "766      True\n",
      "769     False\n",
      "1006    False\n",
      "1014    False\n",
      "1022    False\n",
      "1125    False\n",
      "1177    False\n",
      "1202    False\n",
      "1226    False\n",
      "1259     True\n",
      "1345    False\n",
      "1458    False\n",
      "Name: shot.isGoal, dtype: object \n",
      "\n"
     ]
    }
   ],
   "source": [
    "# To see if there was a goal among these shots, one can print\n",
    "print(df_shots['shot.isGoal'], \"\\n\")"
   ]
  },
  {
   "cell_type": "code",
   "execution_count": null,
   "id": "86c2a4c4",
   "metadata": {
    "execution": {
     "iopub.execute_input": "2024-03-01T11:37:04.552204Z",
     "iopub.status.busy": "2024-03-01T11:37:04.551800Z",
     "iopub.status.idle": "2024-03-01T11:37:04.557728Z",
     "shell.execute_reply": "2024-03-01T11:37:04.556392Z"
    },
    "papermill": {
     "duration": 0.017757,
     "end_time": "2024-03-01T11:37:04.560368",
     "exception": false,
     "start_time": "2024-03-01T11:37:04.542611",
     "status": "completed"
    },
    "tags": []
   },
   "outputs": [],
   "source": [
    "# (Warning: own goals are not seen as a shot attempt)\n",
    "# To get the shots which only resulted in goals, one can filter the dataframe by\n",
    "df_goals = df_shots[df_shots['shot.isGoal']==True]"
   ]
  },
  {
   "cell_type": "code",
   "execution_count": null,
   "id": "0efcb65d",
   "metadata": {
    "execution": {
     "iopub.execute_input": "2024-03-01T11:37:04.577508Z",
     "iopub.status.busy": "2024-03-01T11:37:04.577081Z",
     "iopub.status.idle": "2024-03-01T11:37:04.590860Z",
     "shell.execute_reply": "2024-03-01T11:37:04.589561Z"
    },
    "papermill": {
     "duration": 0.025518,
     "end_time": "2024-03-01T11:37:04.593612",
     "exception": false,
     "start_time": "2024-03-01T11:37:04.568094",
     "status": "completed"
    },
    "tags": []
   },
   "outputs": [
    {
     "data": {
      "text/html": [
       "<div>\n",
       "<style scoped>\n",
       "    .dataframe tbody tr th:only-of-type {\n",
       "        vertical-align: middle;\n",
       "    }\n",
       "\n",
       "    .dataframe tbody tr th {\n",
       "        vertical-align: top;\n",
       "    }\n",
       "\n",
       "    .dataframe thead th {\n",
       "        text-align: right;\n",
       "    }\n",
       "</style>\n",
       "<table border=\"1\" class=\"dataframe\">\n",
       "  <thead>\n",
       "    <tr style=\"text-align: right;\">\n",
       "      <th></th>\n",
       "      <th>matchTimestamp</th>\n",
       "      <th>team.name</th>\n",
       "      <th>player.name</th>\n",
       "      <th>type.primary</th>\n",
       "    </tr>\n",
       "  </thead>\n",
       "  <tbody>\n",
       "    <tr>\n",
       "      <th>380</th>\n",
       "      <td>00:23:08.626</td>\n",
       "      <td>Kazakhstan</td>\n",
       "      <td>M. Samorodov</td>\n",
       "      <td>shot</td>\n",
       "    </tr>\n",
       "    <tr>\n",
       "      <th>766</th>\n",
       "      <td>00:46:14.107</td>\n",
       "      <td>Slovenia</td>\n",
       "      <td>D. Brekalo</td>\n",
       "      <td>shot</td>\n",
       "    </tr>\n",
       "    <tr>\n",
       "      <th>1259</th>\n",
       "      <td>01:17:31.888</td>\n",
       "      <td>Slovenia</td>\n",
       "      <td>Ž. Vipotnik</td>\n",
       "      <td>shot</td>\n",
       "    </tr>\n",
       "  </tbody>\n",
       "</table>\n",
       "</div>"
      ],
      "text/plain": [
       "     matchTimestamp   team.name   player.name type.primary\n",
       "380    00:23:08.626  Kazakhstan  M. Samorodov         shot\n",
       "766    00:46:14.107    Slovenia    D. Brekalo         shot\n",
       "1259   01:17:31.888    Slovenia   Ž. Vipotnik         shot"
      ]
     },
     "metadata": {},
     "output_type": "display_data"
    }
   ],
   "source": [
    "# To display the time, team, player and type of goal, one can use\n",
    "display(df_goals[['matchTimestamp', 'team.name', 'player.name', 'type.primary']])"
   ]
  },
  {
   "cell_type": "code",
   "execution_count": null,
   "id": "0522ab90",
   "metadata": {
    "execution": {
     "iopub.execute_input": "2024-03-01T11:37:04.610913Z",
     "iopub.status.busy": "2024-03-01T11:37:04.610545Z",
     "iopub.status.idle": "2024-03-01T11:37:04.617468Z",
     "shell.execute_reply": "2024-03-01T11:37:04.616797Z"
    },
    "papermill": {
     "duration": 0.019003,
     "end_time": "2024-03-01T11:37:04.620515",
     "exception": false,
     "start_time": "2024-03-01T11:37:04.601512",
     "status": "completed"
    },
    "tags": []
   },
   "outputs": [
    {
     "data": {
      "text/plain": [
       "40      False\n",
       "205     False\n",
       "380      True\n",
       "566      True\n",
       "592      True\n",
       "689     False\n",
       "766      True\n",
       "769     False\n",
       "1006    False\n",
       "1014     True\n",
       "1022    False\n",
       "1125    False\n",
       "1177    False\n",
       "1202    False\n",
       "1226    False\n",
       "1259     True\n",
       "1345    False\n",
       "1458     True\n",
       "Name: shot.onTarget, dtype: object"
      ]
     },
     "execution_count": 132,
     "metadata": {},
     "output_type": "execute_result"
    }
   ],
   "source": [
    "#the shots on target column is either true or false, we can modify them to visualize\n",
    "df_shots['shot.onTarget']"
   ]
  },
  {
   "cell_type": "code",
   "execution_count": null,
   "id": "5b8ec9a0",
   "metadata": {
    "execution": {
     "iopub.execute_input": "2024-03-01T11:37:04.638791Z",
     "iopub.status.busy": "2024-03-01T11:37:04.638411Z",
     "iopub.status.idle": "2024-03-01T11:37:06.455554Z",
     "shell.execute_reply": "2024-03-01T11:37:06.454563Z"
    },
    "papermill": {
     "duration": 1.829766,
     "end_time": "2024-03-01T11:37:06.458531",
     "exception": false,
     "start_time": "2024-03-01T11:37:04.628765",
     "status": "completed"
    },
    "tags": []
   },
   "outputs": [
    {
     "name": "stderr",
     "output_type": "stream",
     "text": [
      "C:\\Users\\nicgr\\AppData\\Local\\Temp\\ipykernel_2220\\3374521651.py:18: FutureWarning: \n",
      "\n",
      "Passing `palette` without assigning `hue` is deprecated and will be removed in v0.14.0. Assign the `x` variable to `hue` and set `legend=False` for the same effect.\n",
      "\n",
      "  sns.barplot(x='On Target', y='Count', data=on_target_count, palette=palette)\n"
     ]
    },
    {
     "data": {
      "image/png": "[encoded data removed]",
      "text/plain": [
       "<Figure size 640x480 with 1 Axes>"
      ]
     },
     "metadata": {},
     "output_type": "display_data"
    }
   ],
   "source": [
    "# we need seaborn and matplotlib\n",
    "import seaborn as sns\n",
    "import matplotlib.pyplot as plt\n",
    "\n",
    "#we count the on target (true) and off target shots (false)\n",
    "on_target_count = df_shots['shot.onTarget'].value_counts().reset_index()\n",
    "\n",
    "# Rename the columns for better readability\n",
    "on_target_count.columns = ['On Target', 'Count']\n",
    "\n",
    "# Apply a Seaborn theme\n",
    "sns.set_theme(style=\"darkgrid\")\n",
    "\n",
    "# Choose a color palette for the plot\n",
    "palette = sns.color_palette(\"coolwarm\", len(on_target_count))\n",
    "\n",
    "# Create the bar chart with the chosen palette\n",
    "sns.barplot(x='On Target', y='Count', data=on_target_count, palette=palette)\n",
    "\n",
    "# Set the title of the plot\n",
    "plt.title('Count of On Target Shots')\n",
    "\n",
    "# Customize further with Seaborn and Matplotlib\n",
    "plt.xlabel('Is Shot On Target?') # X-axis label\n",
    "plt.ylabel('Number of Shots')    # Y-axis label\n",
    "\n",
    "# Optional: Rotate the x-axis labels for better readability\n",
    "plt.xticks(rotation=45)\n",
    "\n",
    "# Show the plot\n",
    "plt.show()"
   ]
  }
 ],
 "metadata": {
  "kaggle": {
   "accelerator": "none",
   "dataSources": [
    {
     "datasetId": 4498932,
     "sourceId": 7705928,
     "sourceType": "datasetVersion"
    }
   ],
   "dockerImageVersionId": 30646,
   "isGpuEnabled": false,
   "isInternetEnabled": true,
   "language": "python",
   "sourceType": "notebook"
  },
  "kernelspec": {
   "display_name": "Python 3 (ipykernel)",
   "language": "python",
   "name": "python3"
  },
  "language_info": {
   "codemirror_mode": {
    "name": "ipython",
    "version": 3
   },
   "file_extension": ".py",
   "mimetype": "text/x-python",
   "name": "python",
   "nbconvert_exporter": "python",
   "pygments_lexer": "ipython3",
   "version": "3.11.8"
  },
  "papermill": {
   "default_parameters": {},
   "duration": 7.657144,
   "end_time": "2024-03-01T11:37:07.207599",
   "environment_variables": {},
   "exception": null,
   "input_path": "__notebook__.ipynb",
   "output_path": "__notebook__.ipynb",
   "parameters": {},
   "start_time": "2024-03-01T11:36:59.550455",
   "version": "2.5.0"
  }
 },
 "nbformat": 4,
 "nbformat_minor": 5
}
